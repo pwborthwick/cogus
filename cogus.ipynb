{
 "cells": [
  {
   "cell_type": "markdown",
   "id": "5d93a99a",
   "metadata": {},
   "source": [
    "### Cluster Operator Generation Using Sympy"
   ]
  },
  {
   "cell_type": "markdown",
   "id": "f0f37e6b",
   "metadata": {},
   "source": [
    "Sympy has a module called secondquant [documentation here](https://docs.sympy.org/latest/modules/physics/secondquant.html) and I want to use this to automatically generate some cluster operators. \n",
    "This was prompted by the repo [paggerq](https://github.com/edeprince3/pdaggerq) which I was told about by [Josh Goings](https://github.com/jjgoings) (whose blog and github site you should certainly look at). Let's start with\n",
    "+ **Symbols**\n",
    "\n",
    "    Quantum chemistry is pretty heavy on labels, we have lots of tensors, so how using sympy do we define some labels for our tensors? Unlike in Python where the first use of the variable declares it, in sympy we must declare our variables. So in Sympy we might write\n",
    "```python\n",
    "from sympy import *\n",
    "i, j = symbols('i, j', cls=Dummy)\n",
    "a, b, c = symbols('a:c', cls=Dummy)\n",
    "```\n",
    "But our labels usually mean something eg i,j will usually be occupied orbitals and a,b will be virtual orbitals. In the particle-hole formalism (PHF) \\[*Shavitt & Bartlett 3.4*\\] we say occupied levels (particles) are below the Fermi surface and virtual ones (holes) above. We can impose these conditions on our labels with\n",
    "```python\n",
    "i, j = symbols('i, j', below_fermi=True)\n",
    "a, b = symbols('a, b', above_fermi=True)\n",
    "```\n",
    "\n",
    "+ **Creation and Annihilation Operators**\n",
    "\n",
    "    An annihilation operator (usually denoted *a*) lowers by one the number of particles in a state. A creation operator (usually denoted *a*$^\\dagger$) increases by one the number of particles in a state. They form an adjoint pair of operators. Second quantization uses these operators instead of wavefunctions. \\[*Shavitt & Bartlett 3.6*\\]. In sympy we define them by\n",
    "```python\n",
    "CreateFermion(p)*AnnihilateFermion(q)\n",
    "or\n",
    "Fd(p)*F(q)\n",
    "```\n",
    "\n",
    "+ **Normal Order**\n",
    "\n",
    "    An important concept for creation and annihilation operators is normal order \\[*Shavitt & Bartlett 3.89*\\], the normal order of these operators is one in which all the creation operators come to the left of the annihilation operators. We can achieve this by progressively swapping adjacent operators making a change of sign of the overall expression each time. Sympy has an operator to do this\n",
    "```python\n",
    "NO(AnnihilateFermion(p)*CreateFermion(q))\n",
    "```\n",
    "For example"
   ]
  },
  {
   "cell_type": "code",
   "execution_count": 86,
   "id": "b31ec14f",
   "metadata": {},
   "outputs": [
    {
     "data": {
      "text/latex": [
       "$\\displaystyle \\left\\{a^\\dagger_{p} a^\\dagger_{s} a_{q} a_{r}\\right\\}$"
      ],
      "text/plain": [
       "NO(CreateFermion(_p)*CreateFermion(_s)*AnnihilateFermion(_q)*AnnihilateFermion(_r))"
      ]
     },
     "metadata": {},
     "output_type": "display_data"
    }
   ],
   "source": [
    "from sympy import *\n",
    "from sympy.physics.secondquant import * \n",
    "\n",
    "p, q, r, s = symbols('p:s', cls=Dummy)\n",
    "\n",
    "display(NO(Fd(s)*F(r)*F(q)*Fd(p)))"
   ]
  },
  {
   "cell_type": "markdown",
   "id": "d642a1c7",
   "metadata": {},
   "source": [
    "+ **Tensors**\n",
    "\n",
    "    We can define tensors, for example, the tensors $g_{ij}^{ab}$ and $f_i^a$ in Sympy by"
   ]
  },
  {
   "cell_type": "code",
   "execution_count": 87,
   "id": "3445eef7",
   "metadata": {},
   "outputs": [
    {
     "data": {
      "text/latex": [
       "$\\displaystyle g^{ab}_{ij}$"
      ],
      "text/plain": [
       "AntiSymmetricTensor(g, (a, b), (i, j))"
      ]
     },
     "metadata": {},
     "output_type": "display_data"
    },
    {
     "data": {
      "text/latex": [
       "$\\displaystyle f^{a}_{i}$"
      ],
      "text/plain": [
       "AntiSymmetricTensor(f, (a,), (i,))"
      ]
     },
     "metadata": {},
     "output_type": "display_data"
    }
   ],
   "source": [
    "i, j = symbols('i, j', below_fermi=True)\n",
    "a, b = symbols('a, b', above_fermi=True)\n",
    "\n",
    "g = AntiSymmetricTensor('g', (a, b), (i, j))\n",
    "f = AntiSymmetricTensor('f', (a, ), (i, ))\n",
    "display(g,f)"
   ]
  },
  {
   "cell_type": "markdown",
   "id": "301687ca",
   "metadata": {},
   "source": [
    "Note in the definition of AntiSymmetricTensor the contravariant indices come first (a, b) and the covariant index last (i, j).\n",
    "+ **Normal Ordered Hamiltonian**\n",
    "\n",
    "    We can now write code to form the normal ordered Hamiltonian \\[*Shavitt & Bartlett 3.185*\\]. If $f_a^i$ is the Fock operator and $v_{ij}^{ab}$ are the 2-electron repulsion integrals then we write the Normal Ordered Hamiltonian as $H_N = {f^p_q} p{\\dagger}q$ + $\\frac{1}{4}v^{pq}_{rs}p{\\dagger}q{\\dagger}sr$"
   ]
  },
  {
   "cell_type": "code",
   "execution_count": 88,
   "id": "885546e0",
   "metadata": {},
   "outputs": [
    {
     "data": {
      "text/latex": [
       "$\\displaystyle f^{p}_{q} \\left\\{a^\\dagger_{p} a_{q}\\right\\} - \\frac{v^{pq}_{rs} \\left\\{a^\\dagger_{p} a^\\dagger_{q} a_{r} a_{s}\\right\\}}{4}$"
      ],
      "text/plain": [
       "AntiSymmetricTensor(f, (_p,), (_q,))*NO(CreateFermion(_p)*AnnihilateFermion(_q)) - AntiSymmetricTensor(v, (_p, _q), (_r, _s))*NO(CreateFermion(_p)*CreateFermion(_q)*AnnihilateFermion(_r)*AnnihilateFermion(_s))/4"
      ]
     },
     "metadata": {},
     "output_type": "display_data"
    }
   ],
   "source": [
    "p, q, r, s = symbols('p:s', cls=Dummy)\n",
    "i, j = symbols('i,j', below_fermi = True)\n",
    "a, b = symbols('a,b', above_fermi= True)\n",
    "\n",
    "#Fock tensor in normal order\n",
    "f = AntiSymmetricTensor('f', (p, ), (q, ))\n",
    "pq = NO(Fd(p)*F(q))\n",
    "\n",
    "#2-electron repulsion tensor in normal order\n",
    "g = AntiSymmetricTensor('v', (p, q), (r, s))\n",
    "pqsr = NO(Fd(p)*Fd(q)*F(s)*F(r))\n",
    "\n",
    "#form Hamiltonian (normal order)\n",
    "h = f * pq + Rational(1, 4) * g * pqsr\n",
    "\n",
    "display(h)"
   ]
  },
  {
   "cell_type": "markdown",
   "id": "4afdda0b",
   "metadata": {},
   "source": [
    "+ **Contractions**\n",
    "\n",
    "    The contraction of operators A and B is defined as A\\*B - n\\[A\\*B\\] , where n\\[ \\] means the normal order \\[*Shavitt & Bartlett 3.95*\\] and is written $\\overbrace{AB}$. In sympy it's written \n",
    "\n",
    " ```contraction(Fd(i),F(j))```\n",
    "    \n",
    "\n",
    "+ **Wick's Theorem**\n",
    "\n",
    "    The time-independent form of Wick’s theorem states: A product of a string of creation and annihilation operators is equal to their normal product plus the sum of all possible normal products with contractions. In sympy\n",
    "\n",
    " ```wicks(Fd(p)*F(q))```\n",
    "    \n",
    "    \n",
    "+ **Configuration Interaction**\n",
    "\n",
    "    As an example of an application of all this let's look at CIS. The CIS energy is in second quantization terms $E_{cis} = <\\phi_0|{i^\\dagger}a H {b^\\dagger}j|\\phi_0>$, we program this in Sympy"
   ]
  },
  {
   "cell_type": "code",
   "execution_count": 89,
   "id": "a0f66118",
   "metadata": {},
   "outputs": [
    {
     "data": {
      "text/latex": [
       "$\\displaystyle - \\delta_{a b} f^{j}_{i} + \\delta_{i j} f^{a}_{b} - v^{aj}_{bi}$"
      ],
      "text/plain": [
       "-KroneckerDelta(a, b)*AntiSymmetricTensor(f, (j,), (i,)) + KroneckerDelta(i, j)*AntiSymmetricTensor(f, (a,), (b,)) - AntiSymmetricTensor(v, (a, j), (b, i))"
      ]
     },
     "metadata": {},
     "output_type": "display_data"
    }
   ],
   "source": [
    "w = wicks(Fd(i)*F(a)*h*Fd(b)*F(j), simplify_kronecker_deltas=True, keep_only_fully_contracted=True)\n",
    "display(w)"
   ]
  },
  {
   "cell_type": "markdown",
   "id": "00dab5e7",
   "metadata": {},
   "source": [
    "just need to mention\n",
    "+ **Simplifying expressions**\n",
    "\n",
    "    There are some useful functions which rationalise expressions. *evaluate\\_deltas* does just that obeying Einstein summation convention. *substitute\\_dummies* this routine simplifys Add expressions containing terms which differ only due to dummy variables. *keep_only\\_fully\\_contracted*, only fully contracted terms are returned. We'll see how to use these later. \n",
    "\n",
    "\n",
    "+ **Cluster Operators**\n",
    "\n",
    "    The cluster operators are defined as $T_1=\\sum t^a_i \\lbrace{a^\\dagger}i\\rbrace$, $T_2=\\frac{1}{4} \\sum t^{ab}_{ij} \\lbrace{a^\\dagger}i{b^\\dagger}j\\rbrace$ etc \\[*Shavitt & Bartlett 9.26-9.28, 9.29*\\]. In Sympy we can do this as"
   ]
  },
  {
   "cell_type": "code",
   "execution_count": 90,
   "id": "f3256336",
   "metadata": {},
   "outputs": [
    {
     "data": {
      "text/latex": [
       "$\\displaystyle t^{a}_{i} \\left\\{a^\\dagger_{a} a_{i}\\right\\} - \\frac{t^{ab}_{ij} \\left\\{a^\\dagger_{a} a^\\dagger_{b} a_{i} a_{j}\\right\\}}{4}$"
      ],
      "text/plain": [
       "AntiSymmetricTensor(t, (_a,), (_i,))*NO(CreateFermion(_a)*AnnihilateFermion(_i)) - AntiSymmetricTensor(t, (_a, _b), (_i, _j))*NO(CreateFermion(_a)*CreateFermion(_b)*AnnihilateFermion(_i)*AnnihilateFermion(_j))/4"
      ]
     },
     "metadata": {},
     "output_type": "display_data"
    }
   ],
   "source": [
    "def clusterOperators(level):\n",
    "    if 'S' in level:\n",
    "        i = symbols('i', below_fermi=True, cls=Dummy)\n",
    "        a = symbols('a', above_fermi=True, cls=Dummy)\n",
    "        ts = AntiSymmetricTensor('t', (a,), (i,))\n",
    "        ai = NO(Fd(a)*F(i))\n",
    "        t1 = ts * ai\n",
    "\n",
    "    if 'D' in level:\n",
    "        i, j = symbols('i,j', below_fermi=True, cls=Dummy)\n",
    "        a, b = symbols('a,b', above_fermi=True, cls=Dummy)\n",
    "        td = AntiSymmetricTensor('t', (a, b), (i, j))\n",
    "        aibj = NO(Fd(a)*F(i)*Fd(b)*F(j))\n",
    "        t2 = Rational(1, 4)*td*aibj\n",
    "\n",
    "    if 'T' in level:\n",
    "        i, j, k = symbols('i:k', below_fermi=True, cls=Dummy)\n",
    "        a, b, c = symbols('a:c', above_fermi=True, cls=Dummy)\n",
    "        tt = AntiSymmetricTensor('t', (a, b, c), (i, j, k))\n",
    "        aibjck = NO(Fd(a)*F(i)*Fd(b)*F(j)*Fd(c)*F(k))\n",
    "        t3 = Rational(1, 36)*tt*aibjck\n",
    "      \n",
    "    if level == 'S':   return t1\n",
    "    if level == 'D':   return t2\n",
    "    if level == 'SD':  return t1 + t2\n",
    "    if level == 'SDT': return t1 + t2 + t3\n",
    "    \n",
    "display(clusterOperators('SD'))\n"
   ]
  },
  {
   "cell_type": "markdown",
   "id": "6b647b64",
   "metadata": {},
   "source": [
    "+ **Similarity-Transformed Hamiltonian**\n",
    "\n",
    "    This is defined as $e^{-T}{H_N}e^{T}$, where $H_N$ is the normal-ordered Hamiltonian and T are cluster operators. This is non-Hermitian giving rise to left and right eigenvectors.\n",
    "    \n",
    "    \n",
    "+ **Commutator**\n",
    "\n",
    "    The commutator bracket is defined \\[A,B\\] = AB - BA and in sympy,\n",
    "\n",
    "    ```Commutator```\n",
    "    \n",
    "    \n",
    "+ **Permutations**\n",
    "\n",
    "    Sympy has a permutation operator, P(a,b) = $f_{ab} - f_{ba}$ \n",
    "\n",
    "    ```PermutationOperator(i,j)```\n",
    "    \n",
    "    \n",
    "+ **Baker-Campbell-Hausdorff**\n",
    "\n",
    "    The  Baker-Campbell-Hausdorff expansion (BCH) gives an expansion of $e^{-B}Ae^B$ \\[*Shavitt \\& Bartlett 10.4*\\] and applied to $H_N$ \\[*Shavitt & Bartlett 10.5*\\]. Sympy doen't has a built-in version of this so we have to do some work. Below is a subroutine to do a BCH, note that many of the simplification flags we used before can also be functions. The $expand$ method of a expression performs all eg the multiplication brackets and reduces the expression to simple terms."
   ]
  },
  {
   "cell_type": "code",
   "execution_count": 91,
   "id": "1ce389e9",
   "metadata": {},
   "outputs": [],
   "source": [
    "def bakerCampbellHausdorff(h, level, degree):\n",
    "    \n",
    "    symbols = {'above': 'defg','below': 'lmno', 'general': 'pqrst' }\n",
    "\n",
    "    #commutator bracket\n",
    "    c = Commutator\n",
    "   \n",
    "    bch = zeros(5)\n",
    "    bch[0] = h\n",
    "    for i in range(degree):\n",
    "        t  = clusterOperators(level)\n",
    "        bch[i+1] = wicks(c(bch[i], t))\n",
    "        bch[i+1] = evaluate_deltas(bch[i+1])          \n",
    "        bch[i+1] = substitute_dummies(bch[i+1])\n",
    "\n",
    "    #BCH series\n",
    "    BCH = bch[0] + bch[1] + bch[2]/2 + bch[3]/6 + bch[4]/24 \n",
    "\n",
    "    #tidy up and compact\n",
    "    BCH = BCH.expand()\n",
    "    BCH = evaluate_deltas(BCH)\n",
    "    BCH = substitute_dummies(BCH, new_indices=True,\n",
    "                                  pretty_indices=symbols)\n",
    "    \n",
    "    return BCH\n"
   ]
  },
  {
   "cell_type": "markdown",
   "id": "b711f730",
   "metadata": {},
   "source": [
    "+ **Coupled-Cluster Doubles**\n",
    "\n",
    "    Let's see if we can use the above to get the CCD energy and amplitude expressions. We need to evaluate<br>\n",
    "$E_{cc} = <\\phi_0 | e^{-t_2}{H_N}e^{t_2} | \\phi_0>$<br>\n",
    "$T_2 = <\\phi_0 | {i^\\dagger}{j^\\dagger}{ba} \\ e^{-t_2}{H_N}e^{t_2} | \\phi_0>$"
   ]
  },
  {
   "cell_type": "code",
   "execution_count": 105,
   "id": "8b3dd700",
   "metadata": {},
   "outputs": [
    {
     "data": {
      "text/latex": [
       "$\\displaystyle \\frac{t^{ab}_{ij} v^{ij}_{ab}}{4}$"
      ],
      "text/plain": [
       "AntiSymmetricTensor(t, (_a, _b), (_i, _j))*AntiSymmetricTensor(v, (_i, _j), (_a, _b))/4"
      ]
     },
     "metadata": {},
     "output_type": "display_data"
    },
    {
     "data": {
      "text/latex": [
       "$\\displaystyle f^{k}_{i} t^{ab}_{jk} P(ij) - f^{a}_{c} t^{bc}_{ij} P(ab) + \\frac{t^{cd}_{ij} t^{ab}_{kl} v^{kl}_{cd}}{4} + \\frac{t^{cd}_{ij} v^{ab}_{cd}}{2} + \\frac{t^{cd}_{jk} t^{ab}_{il} v^{kl}_{cd} P(ij)}{2} + t^{ac}_{ik} t^{bd}_{jl} v^{kl}_{cd} P(ij) + t^{ac}_{ik} v^{bk}_{jc} P(ab) P(ij) - \\frac{t^{ac}_{ij} t^{bd}_{kl} v^{kl}_{cd} P(ab)}{2} + \\frac{t^{ab}_{kl} v^{kl}_{ij}}{2} + v^{ab}_{ij}$"
      ],
      "text/plain": [
       "AntiSymmetricTensor(f, (_k,), (i,))*AntiSymmetricTensor(t, (a, b), (j, _k))*PermutationOperator(i, j) - AntiSymmetricTensor(f, (a,), (_c,))*AntiSymmetricTensor(t, (b, _c), (i, j))*PermutationOperator(a, b) + AntiSymmetricTensor(t, (_c, _d), (i, j))*AntiSymmetricTensor(t, (a, b), (_k, _l))*AntiSymmetricTensor(v, (_k, _l), (_c, _d))/4 + AntiSymmetricTensor(t, (_c, _d), (i, j))*AntiSymmetricTensor(v, (a, b), (_c, _d))/2 + AntiSymmetricTensor(t, (_c, _d), (j, _k))*AntiSymmetricTensor(t, (a, b), (i, _l))*AntiSymmetricTensor(v, (_k, _l), (_c, _d))*PermutationOperator(i, j)/2 + AntiSymmetricTensor(t, (a, _c), (i, _k))*AntiSymmetricTensor(t, (b, _d), (j, _l))*AntiSymmetricTensor(v, (_k, _l), (_c, _d))*PermutationOperator(i, j) + AntiSymmetricTensor(t, (a, _c), (i, _k))*AntiSymmetricTensor(v, (b, _k), (j, _c))*PermutationOperator(a, b)*PermutationOperator(i, j) - AntiSymmetricTensor(t, (a, _c), (i, j))*AntiSymmetricTensor(t, (b, _d), (_k, _l))*AntiSymmetricTensor(v, (_k, _l), (_c, _d))*PermutationOperator(a, b)/2 + AntiSymmetricTensor(t, (a, b), (_k, _l))*AntiSymmetricTensor(v, (_k, _l), (i, j))/2 + AntiSymmetricTensor(v, (a, b), (i, j))"
      ]
     },
     "metadata": {},
     "output_type": "display_data"
    }
   ],
   "source": [
    "#get the normal ordered hamiltonian from earlier\n",
    "\n",
    "#do Baker-Campbell-Hausdorff on H\n",
    "ccd = bakerCampbellHausdorff(h, 'D', 4)\n",
    "\n",
    "#cluster energy\n",
    "w = wicks(ccd, simplify_kronecker_deltas=True, keep_only_fully_contracted=True)\n",
    "symbol_rules = {'below':'ijklmno', 'above': 'abcdef', 'general':'pqrstu'}\n",
    "ccEnergy = substitute_dummies(w, new_indices=True, pretty_indices=symbol_rules)\n",
    "\n",
    "#doubles amplitudes\n",
    "expression = wicks(Fd(i)*Fd(j)*F(b)*F(a)*ccd, simplify_kronecker_deltas=True, keep_only_fully_contracted=True)\n",
    "symbol_rules = {'below':'klmno', 'above': 'cdef', 'general':'pqrstu'}\n",
    "td = substitute_dummies(expression, new_indices=True, pretty_indices=symbol_rules)\n",
    "p = [PermutationOperator(i,j), PermutationOperator(a,b)]\n",
    "doubles = simplify_index_permutations(td, p)\n",
    "\n",
    "display(ccEnergy)\n",
    "display(doubles)"
   ]
  },
  {
   "cell_type": "markdown",
   "id": "a6976ad5",
   "metadata": {},
   "source": [
    "+ **Parsing The Output**\n",
    "\n",
    "    The actual returned values (not processed by *display*) are comprised of terms like\n",
    "       \n",
    "    ```AntiSymmetricTensor(f, (_k,), (i,))*AntiSymmetricTensor(t, (a, b), (j,_k))*PermutationOperator(i, j) + AntiSymmetricTensor(f, (a,), (_c,))*AntiSymmetricTensor(t, (b, _c), (i, j))*PermutationOperator(a, b) + AntiSymmetricTensor(t, (_c, _d), (i, j))*AntiSymmetricTensor(t, (a, b), (_k, _l))*AntiSymmetricTensor(v, (_k, _l), (_c, _d))/4```\n",
    "\n",
    "    The energy and amplitudes are each returned as a single string. The main tool we have is *args*, *(expr).args* returns a tuple of each term in the string. Each element in the tuple could be a term with multiple tensors (eg  AntiSymmetricTensor(t, (_c,_d), (i, j)) * AntiSymmetricTensor(v, (a, b), (_c, _d))/2) or a single tensor (eg + AntiSymmetricTensor(v, (a, b), (i, j))). (It could in some situations be a constant). You can tell which sort it is using *isinstance*. The types we can test for with *isinstance* are Add, Mul, AntiSymmetricTensor, Rational, KroneckerDelta and PermutationOperator.\n",
    "\n",
    "    Let's see if we can parse doubles. First we decide if we have a single item or a multiple one, then if it's multiple we make a list out of it's components. The list will typically contain \\[an optional multiplier,AntiSymmetricTensors,..., PermutationOperator\\]. Here's an example from the doubles."
   ]
  },
  {
   "cell_type": "code",
   "execution_count": 93,
   "id": "735e3379",
   "metadata": {},
   "outputs": [
    {
     "data": {
      "text/plain": [
       "[-1,\n",
       " AntiSymmetricTensor(f, (a,), (_c,)),\n",
       " AntiSymmetricTensor(t, (b, _c), (i, j)),\n",
       " PermutationOperator(a, b)]"
      ]
     },
     "metadata": {},
     "output_type": "display_data"
    }
   ],
   "source": [
    "if isinstance(doubles, Mul) or isinstance(doubles, AntiSymmetricTensor): \n",
    "    items = [doubles]\n",
    "else:\n",
    "    items = doubles.args\n",
    "    \n",
    "units = []\n",
    "for item in items:\n",
    "\n",
    "    #multiple component term\n",
    "    if isinstance(item, Mul):\n",
    "        subUnits = []\n",
    "        for atom in item.args:\n",
    "            subUnits.append(atom)\n",
    "        units.append(subUnits)\n",
    "\n",
    "    #kronecker deltas\n",
    "    elif isinstance(item, KroneckerDelta): \n",
    "        units.append([item]) \n",
    "    #single tensor term\n",
    "    elif isinstance(item, AntiSymmetricTensor):\n",
    "        units.append([item])\n",
    "    else:\n",
    "        print('No handler for class ', type(item),' ', item)\n",
    "display(units[3])"
   ]
  },
  {
   "cell_type": "markdown",
   "id": "f6982be1",
   "metadata": {},
   "source": [
    "Now we've split the expression into a list for each term, we need to interpret the individual list elements. We test each  list item against \n",
    "+ isinstance(\\_ , Number)\n",
    "+ isinstance(\\_ , AntisymmetricTensor)\n",
    "+ isinstance(\\_ , PermutationOperator)\n",
    "+ isinstance(\\_ , KroneckerDelta)\n",
    "\n",
    "If we have an AntisymmetricTensor we can find \n",
    "+ label as \\_.symbol\n",
    "+ contravariant indices as \\_.upper\n",
    "+ covariant indices as \\_.lower\n",
    "\n",
    "If we have a KroneckerDelta or PermutationOperator then\n",
    "+ the indices are \\_.args\n",
    "\n",
    "For example,"
   ]
  },
  {
   "cell_type": "code",
   "execution_count": 94,
   "id": "9246d109",
   "metadata": {},
   "outputs": [
    {
     "name": "stdout",
     "output_type": "stream",
     "text": [
      "-1.00000000000000\n",
      "f (a,) (_c,)\n",
      "t (b, _c) (i, j)\n",
      "(a, b) a b\n"
     ]
    }
   ],
   "source": [
    "for item in units[3]:\n",
    "    if isinstance(item, Number):\n",
    "        print(Float(item))\n",
    "    if isinstance(item, AntiSymmetricTensor):\n",
    "        print(item.symbol, item.upper, item.lower)\n",
    "    if isinstance(item, PermutationOperator) or isinstance(item, KroneckerDelta):\n",
    "        print(item.args, item.args[0], item.args[1])"
   ]
  },
  {
   "cell_type": "markdown",
   "id": "cfb77b94",
   "metadata": {},
   "source": [
    "So we can parse the expressions into something like ```-1.0000 * np.einsum('ac,bcij->abij', f[v, o], t)```.\\\n",
    "These are the expressions that need to be evaluated for a variety of coupled-cluster methods\n",
    "\n",
    "+ **CCD**\n",
    "    + $E = <\\phi_0|e^{-t_2}H_Ne^{t_2}|\\phi_0>$\n",
    "    + $T_2 = <\\phi_0|{i^\\dagger}{j^\\dagger}ba \\ e^{-t_2}H_Ne^{t_2}|\\phi_0>$\n",
    "    \n",
    "+ **CCSD**\n",
    "    + $E = <\\phi_0|e^{-(t_1+t_2)}H_Ne^{(t_1+t_2)}|\\phi_0>$\n",
    "    + $T_1 = <\\phi_0|{i^\\dagger}b \\ e^{-(t_1+t_2)}H_Ne^{(t_1+t_2)}|\\phi_0>$\n",
    "    + $T_2 = <\\phi_0|{i^\\dagger}{j^\\dagger}ba \\ e^{-(t_1+t_2)}H_Ne^{(t_1+t_2)}|\\phi_0>$\n",
    "\n",
    "+ **CCSDT**\n",
    "    + $E = <\\phi_0|e^{-(t_1+t_2+t_3)}H_Ne^{(t_1+t_2+t_3)}|\\phi_0>$\n",
    "    + $T_1 = <\\phi_0|{i^\\dagger}b \\ e^{-(t_1+t_2+t_3)}H_Ne^{(t_1+t_2+t_3)}|\\phi_0>$\n",
    "    + $T_2 = <\\phi_0|{i^\\dagger}{j^\\dagger}ba \\ e^{-(t_1+t_2+t_3)}H_Ne^{(t_1+t_2+t_3)}|\\phi_0>$\n",
    "    + $T_3 = <\\phi_0|{i^\\dagger}{j^\\dagger}{k^\\dagger}cba \\ e^{-(t_1+t_2+t_3)}H_Ne^{(t_1+t_2+t_3)}|\\phi_0>$\n",
    "\n",
    "+ **CCSD(T)**\n",
    "    + $E = <\\phi_0|e^{-(t_1+t_2+t_3)}H_Ne^{(t_1+t_2+t_3)}|\\phi_0>$\n",
    "    + $T_1 = <\\phi_0|{i^\\dagger}b \\ e^{-(t_1+t_2+t_3)}H_Ne^{(t_1+t_2+t_3)}|\\phi_0>$\n",
    "    + $T_2 = <\\phi_0|{i^\\dagger}{j^\\dagger}ba \\ e^{-(t_1+t_2+t_3)}H_Ne^{(t_1+t_2+t_3)}|\\phi_0>$\n",
    "    + $T_3 = <\\phi_0|{i^\\dagger}{j^\\dagger}{k^\\dagger}cba \\ (e^{-t_3}f_Ne^{t_3} + [v,t_2])|\\phi_0>$\n",
    "\n",
    "    \n",
    "+ **CC2**\n",
    "    + $E = <\\phi_0|e^{-(t_1+t_2)}H_Ne^{(t_1+t_2)}|\\phi_0>$\n",
    "    + $T_1 = <\\phi_0|{i^\\dagger}b \\ e^{-(t_1+t_2)}H_Ne^{(t_1+t_2)}|\\phi_0>$\n",
    "    + $T_2 = <\\phi_0|{i^\\dagger}{j^\\dagger}ba \\ (e^{-t_2}fe^{t_2} + e^{-t_1}ve^{t_1})|\\phi_0>$\n",
    "    \n",
    "+ **CC3**\n",
    "    + $E = <\\phi_0|e^{-(t_1+t_2+t_3)}H_Ne^{(t_1+t_2+t_3)}|\\phi_0>$\n",
    "    + $T_1 = <\\phi_0|{i^\\dagger}b \\ e^{-(t_1+t_2+t_3)}H_Ne^{(t_1+t_2+t_3)}|\\phi_0>$\n",
    "    + $T_2 = <\\phi_0|{i^\\dagger}{j^\\dagger}ba \\ e^{-(t_1+t_2+t_3)}H_Ne^{(t_1+t_2+t_3)}|\\phi_0>$\n",
    "    + $T_3 = <\\phi_0|{i^\\dagger}{j^\\dagger}ba \\ (e^{-(t_1+t_2+t_3)}fe^{(t_1+t_2+t_3)} + e^{-t_1}ve^{t_1} + v + [v,t_2] + [[v,t_1],t_2] + \\frac{1}{2}[[[v,t_1],t_1],t_2] + \\frac{1}{6}[[[[v,t_1],t_1],t_1],t_2])|\\phi_0>$\n",
    "    \n",
    "    \n",
    "+ **LCCD**\n",
    "    + Use CCD but restrict the Baker-Campbell-Hausdorff expansion to linear terms ie ```bakerCampbellHausdorff(h,'D',1)```\n",
    "    \n",
    "+ **LCCSD**\n",
    "    + Use CCSD but restrict the Baker-Campbell-Hausdorff expansion to linear terms ie ```bakerCampbellHausdorff(h,'SD',1)```\n",
    "    \n"
   ]
  },
  {
   "cell_type": "markdown",
   "id": "a1f75410",
   "metadata": {},
   "source": [
    "+ **CCSD-&Lambda;**\n",
    "\n",
    "    The CCSD Lagrangian is given by $\\mathfrak{L} = <\\phi_0| (1+\\Lambda) \\ e^{-(t_1+t_2)}H_Ne^{(t_1+t_2)} |0>$\n",
    "\n",
    "    The &Lambda; are de-excitation operators defined as $L_1=\\sum L^i_a \\lbrace{i\\dagger}a\\rbrace$, $T_2=\\frac{1}{4} \\sum l^{ij}_{ab} \\lbrace{a^\\dagger}i{b^\\dagger}j\\rbrace$ \\[*Shavitt & Bartlett 13.14*] etc \n",
    "\n",
    "    The derivative of the Lagrangian with respect to $T_1  (t_1 \\lbrace{a^\\dagger}i\\rbrace)$ is $<0| {-a^\\dagger} i  e^{-T}{H_N}e^T |0> + <0| e^{-T}{H_N}e^T \\lbrace{a^\\dagger}i\\rbrace|0> + <0|\\mathfrak{L}  -e^{-T}\\lbrace{a^\\dagger}i\\rbrace  {H_N}e^T |0> + <0| \\mathfrak{L} e^{-T}{H_N}\\lbrace{a^\\dagger}i\\rbrace  e^T |0>$\\\n",
    "which is $<0| e^{-T}{H_N}e^T |\\psi^a_i> + <0| \\mathfrak{L} e^{-T} [H_N,\\lbrace{a^\\dagger}i\\rbrace] e^T |0> $<br><br>\n",
    "The derivative of the Lagrangian with respect to $T_2  (t_2 \\lbrace{a^\\dagger}{b^\\dagger}ij\\rbrace)$ is\\\n",
    "$<0| (-\\lbrace {a^\\dagger}{b^\\dagger}ij\\rbrace  e^{-T}H_Ne^T |0> + <0| e^{-T}H_Ne^T  \\lbrace {a^\\dagger}{b^\\dagger}ij\\rbrace|0> + <0|\\mathfrak{L} (-e^{-T}\\lbrace {a\\dagger}{b\\dagger}ij\\rbrace  H_Ne^T |0> + <0| \\mathfrak{L} e^{-T}H_N\\lbrace {a^\\dagger}{b^\\dagger}ij\\rbrace |0>$\n",
    "which is $<0| e^{-T}H_Ne^T |\\phi^{ab}_{ij}> + <0| \\mathfrak{L} e^{-T} [H_N,\\lbrace{a^\\dagger}{b^\\dagger}ij\\rbrace] e^T |0>$ \n",
    "\n",
    "    This is implemented along the lines of...\n",
    "```\n",
    "st = bakerCampbellHausdorff(h*Fd(a)*F(i),'SD',4)\n",
    "w = wicks(st , simplify_kronecker_deltas=True, keep_only_fully_contracted=True)\n",
    "st = bakerCampbellHausdorff(Commutator(h, Fd(a)*F(i)),'SD',4)\n",
    "leftOperators = lagrangeOperator('S') + lagrangeOperator('D')\n",
    "w += wicks(leftOperators*st, simplify_kronecker_deltas=True, keep_only_fully_contracted=True)\n",
    "```\n",
    "    and doubles...\n",
    "```python\n",
    "st = bakerCampbellHausdorff(h*Fd(a)*Fd(b)*F(j)*F(i),'SD',4)\n",
    "w = wicks(st, simplify_kronecker_deltas=True, keep_only_fully_contracted=True)\n",
    "st = bakerCampbellHausdorff(Commutator(h,Fd(a)*Fd(b)*F(j)*F(i)),'SD',4)\n",
    "leftOperators = lagrangeOperator('S') + lagrangeOperator('D')\n",
    "w += wicks(leftOperators*st, simplify_kronecker_deltas=True, keep_only_fully_contracted=True)\n",
    "```\n",
    "    The Lagrange amplitudes are given by eg...\n",
    "```python\n",
    "if 'D' in level:\n",
    "    #Lagrange doubles amplitudes\n",
    "    i, j = symbols('i,j', below_fermi=True, cls=Dummy)\n",
    "    a, b = symbols('a,b', above_fermi=True, cls=Dummy)\n",
    "    l2 = Rational(1, 4) * AntiSymmetricTensor('l2', (i, j), (a, b)) *  NO(Fd(i)*F(a)*Fd(j)*F(b))\n",
    "```\n",
    "\n",
    "We gave the Lagrangian earlier as $\\mathfrak{L} = <0| (1+\\Lambda) \\ e^{-(t_1+t_2)}H_Ne^{(t_1+t_2)} |0>$, hence the Lagrangian energy is given by\n",
    "$<0| e^{-T}H_Ne^T |0> + <0| L_1 e^{-T}H_Ne^T |0> + <0| L_2 e^{-T}H_Ne^T  |0>$, or\\\n",
    "$E_{ccsd} + l1<0|\\lbrace{i^\\dagger}a\\rbrace e^{-T}H_Ne^T  |0> + l2<0| \\lbrace{i^\\dagger}{j^\\dagger}ba\\rbrace e^{-T}H_Ne^T  |0>$ or\\\n",
    "$E_{ccsd} + l1 CCSD_{singles} + l2 CCSD_{doubles}$\n"
   ]
  },
  {
   "cell_type": "markdown",
   "id": "16428340",
   "metadata": {},
   "source": [
    "+ **CCSD Response Density Matrices**\n",
    "\n",
    "    \\[*Shavitt & Bartlett 11.88*\\] defines the one-particle response density matrix (oprdm) as $\\gamma_{qp} = <0| (1 + \\Lambda)e^{-T}\\lbrace{p^\\dagger}q\\rbrace \\ e^T |0>$ (the 1 is $\\Lambda_0$)\n",
    "\n",
    "We can generalise the density matrix equation to include EOM cases\n",
    "\n",
    "| method | $\\Lambda_0$  | $\\Lambda_1$  | $\\Lambda_2$  |\n",
    "|:---:|:--:|:-----------:|:------:|\n",
    "| CC | $1$ | $\\lambda^i_a \\lbrace{i^\\dagger}a\\rbrace$     | $\\frac{1}{4}\\lambda^{jk}_{bc} \\lbrace{j^\\dagger}{k^\\dagger}cb\\rbrace$  |\n",
    "| EE | $0$ | $\\lambda^i_a \\lbrace{i^\\dagger}a\\rbrace$     | $\\frac{1}{4}\\lambda^{jk}_{bc} \\lbrace{j^\\dagger}{k^\\dagger}cb\\rbrace$  |\n",
    "| IP | $0$ | $\\lambda^i \\lbrace{i^\\dagger}\\rbrace$     | $\\frac{1}{4}\\lambda^{jk}_{c} \\lbrace{j^\\dagger}{k^\\dagger}c\\rbrace$  |\n",
    "| EA | $0$ | $\\lambda_a \\lbrace a\\rbrace$     | $\\frac{1}{4}\\lambda^{k}_{bc} \\lbrace{k^\\dagger}cb\\rbrace$  |\n",
    "\n",
    "The basic EE form has $\\lbrace {i^\\dagger}a\\rbrace$. if we go to IP we lose the hole so go to ${i^\\dagger}$ or if we go to electron affinity we lose the particle $a$. There are also double IP (DIP) and double EA (DEA).\\\n",
    "In EOM the density matrices are given by $<0| L_k e^{-T} \\lbrace{p^\\dagger}q\\rbrace e^T R_k |0>$ \\[*Shavitt and Bartlett 13.28*]. Here L and R are the left and right eigenvectors \\[*Shavitt & Bartlett 13.14 and 13.9*], they represent de-excitations and excitations, respectively. They form of bi-orthonormal set \\[*Shavitt & Bartlett 13.16*]. For the response density we only need the de-excitation operators which we can program as\n",
    "```python\n",
    "def de_excitations(method):\n",
    "\n",
    "   i, j, k = symbols('i:k' ,below_fermi=True, cls=Dummy)\n",
    "   a ,b, c = symbols('a:c' ,above_fermi=True, cls=Dummy)   \n",
    "\n",
    "   if method == 'IP':\n",
    "       return [0, AntiSymmetricTensor('l',(i,),())*Fd(i), Rational(1, 2)* \\\n",
    "                  AntiSymmetricTensor('l',(j,k),(a,))*Fd(j)*Fd(k)*F(a)]  \n",
    "   elif method == 'EA':\n",
    "       return [0, AntiSymmetricTensor('l',(),(a,))*F(a), Rational(1, 2)* \\\n",
    "                  AntiSymmetricTensor('l',(i,),(b,c))*Fd(i)*F(c)*F(b)]\n",
    "   elif method == 'EE':\n",
    "       return [0, AntiSymmetricTensor('l',(i,),(a,))*Fd(i)*F(a), Rational(1, 4)* \\\n",
    "                  AntiSymmetricTensor('l',(j,k),(b,c))*Fd(j)*Fd(k)*F(c)*F(b)]\n",
    "   elif method == 'CC':\n",
    "       return [1, AntiSymmetricTensor('l',(i,),(a,))*Fd(i)*F(a), Rational(1, 4)* \\\n",
    "                  AntiSymmetricTensor('l',(j,k),(b,c))*Fd(j)*Fd(k)*F(c)*F(b)]\n",
    "```\n",
    "Then if we wanted the occupied-occupied block $\\gamma_{ij}$\n",
    "```python\n",
    "L = sum(de_excitations(method))\n",
    "\n",
    "cc = bakerCampbellHausdoff(Fd(i)*F(j),'SD',4)\n",
    "evaluate_deltas(wicks(L*cc, keep_only_fully_contracted = True))\n",
    "cc = substitute_dummies(cc, new_indices=True, pretty_indices = {'below':  'klmno','above':  'abcde'})\n",
    "```\n",
    "\n",
    "The 2-particle response density matrix (tprdm) is given by $\\Gamma_{pqrs} = <0|(1+\\Lambda)e^{-T} \\lbrace{p^\\dagger}{q^\\dagger}sr\\rbrace e^T|0>$ \\[*Shavitt & Bartlett 11.89*\\] and implemented as, for example, $\\Gamma_{ijkl}$\n",
    "\n",
    "```python\n",
    "i,j,k,l = symbols('i:l' , below_fermi=True)\n",
    "a,b,c,d = symbols('a:d' , above_fermi=True)\n",
    "p = [PermutationOperator(i,j), PermutationOperator(a,b)]\n",
    "\n",
    "cc = bakerCampbellHausdorff(Fd(i)*Fd(j)*F(l)*F(k),'SD',4)\n",
    "oooo = wicks(L*cc , keep_only_fully_contracted=True, simplify_kronecker_deltas = True)\n",
    "oooo = simplify_index_permutations(oooo, [PermutationOperator(i,j), PermutationOperator(k,l)])\n",
    "oooo = substitute_dummies(oooo,new_indices=True, pretty_indices={'below':  'mnop','above':  'abcde'})\n",
    "```"
   ]
  },
  {
   "cell_type": "markdown",
   "id": "d9347e27",
   "metadata": {},
   "source": [
    "+ **EOM**\n",
    "    The Equation-of-Motion solution requires, in addition to the left-hand de-excitation operators we defined above, a set of right-hand excitation operators - $R_k$ defined to act as $R_k |\\phi_0> = |\\phi_k>$ \\[*Shavitt & Bartlett 13.7*\\].\n",
    "    These are can be defined as\n",
    "```python\n",
    "def excitationOperators(level):\n",
    "\n",
    "    i, j, k = symbols('i,j,k' ,below_fermi=True, cls=Dummy)\n",
    "    a ,b, c = symbols('a:c' ,above_fermi=True, cls=Dummy)   \n",
    "\n",
    "    if level == 'IP':\n",
    "        return [0, AntiSymmetricTensor('r',(),(i,))*F(i), Rational(1, 2)*AntiSymmetricTensor('r',(a,),(j,k))*Fd(a)*F(k)*F(j)]\n",
    "    elif level == 'EA':\n",
    "        return [0, AntiSymmetricTensor('r',(a,),())*Fd(a), Rational(1, 2)*AntiSymmetricTensor('r',(b,c),(i,))*Fd(b)*Fd(c)*F(i)]\n",
    "    elif level == 'EE':\n",
    "        return [AntiSymmetricTensor('r0',(),()), AntiSymmetricTensor('r',(a,),(i,))*Fd(a)*F(i), \\\n",
    "                Rational(1, 4)*AntiSymmetricTensor('r',(b,c),(j,k))*Fd(b)*Fd(c)*F(k)*F(j) ]\n",
    "    elif level == 'CC':\n",
    "        return [1, 0, 0]\n",
    "```\n",
    "Our main equation is $[H, R_k]|0> = \\omega_k R_k|0>$ \\[*Shavitt & Bartlett 13.20*\\].\n",
    "\n",
    "To compute the singles-singles block of EE-EOM-CC then we would do\n",
    "```python\n",
    "R = excitationOperators('EE')\n",
    "qOperators, qSymbols = [Fd(i)*F(a), {'below': 'jklmno','above': 'bcdefg'}]\n",
    "\n",
    "ss = evaluate_deltas(wicks(qOperators*Commutator(h,R[1]) , keep_only_fully_contracted=True))\n",
    "ss = substitute_dummies(ss, new_indices=True, pretty_indices= qSymbols)\n",
    "\n",
    "p = [PermutationOperator(i,j), PermutationOperator(a,b)]\n",
    "block['ss'] = simplify_index_permutations(ss, p)\n",
    "```\n",
    "For \\[ds\\] and \\[dd\\] blocks R\\[1\\] becomes R\\[2\\] and for IP and EA for \\[ss\\] and \\[sd\\] use<br>\n",
    "if level == 'IP': qOperators, qSymbols = \\[Fd(i), {'below': 'jklmno','above': 'abcdefg'}\\]<br>\n",
    "if level == 'EA': qOperators, qSymbols = \\[F(a), {'below': 'ijklmno','above': 'bcdefg'}\\]\n",
    "\n",
    "and for \\[ds\\] and \\[dd\\] blocks\\\n",
    "if level == 'IP': qOperators, qSymbols = \\[Fd(i)\\*Fd(j)\\*F(a), {'below': 'klmno','above': 'bcdefg'}\\]<br>\n",
    "if level == 'EA': qOperators, qSymbols = \\[Fd(i)\\*F(b)\\*F(a), {'below': 'jklmno','above': 'cdefg'}\\]<br>\n",
    "if level == 'EE': qOperators, qSymbols = \\[Fd(i)\\*Fd(j)\\*F(b)\\*F(a), {'below': 'klmno','above': 'cdefg'}\\]\n",
    "\n",
    "As an example below is EE-EOM-CCSD for the singles-doubles block.."
   ]
  },
  {
   "cell_type": "code",
   "execution_count": 95,
   "id": "8dc43537",
   "metadata": {},
   "outputs": [
    {
     "data": {
      "text/latex": [
       "$\\displaystyle f^{j}_{b} r^{ab}_{ij} + \\frac{r^{bc}_{ij} t^{a}_{k} v^{jk}_{bc}}{2} + \\frac{r^{bc}_{ij} v^{aj}_{bc}}{2} + \\frac{r^{ab}_{jk} t^{c}_{i} v^{jk}_{bc}}{2} - \\frac{r^{ab}_{jk} v^{jk}_{ib}}{2} + r^{ab}_{ij} t^{c}_{k} v^{jk}_{bc}$"
      ],
      "text/plain": [
       "AntiSymmetricTensor(f, (_j,), (_b,))*AntiSymmetricTensor(r, (a, _b), (i, _j)) + AntiSymmetricTensor(r, (_b, _c), (i, _j))*AntiSymmetricTensor(t, (a,), (_k,))*AntiSymmetricTensor(v, (_j, _k), (_b, _c))/2 + AntiSymmetricTensor(r, (_b, _c), (i, _j))*AntiSymmetricTensor(v, (a, _j), (_b, _c))/2 + AntiSymmetricTensor(r, (a, _b), (_j, _k))*AntiSymmetricTensor(t, (_c,), (i,))*AntiSymmetricTensor(v, (_j, _k), (_b, _c))/2 - AntiSymmetricTensor(r, (a, _b), (_j, _k))*AntiSymmetricTensor(v, (_j, _k), (i, _b))/2 + AntiSymmetricTensor(r, (a, _b), (i, _j))*AntiSymmetricTensor(t, (_c,), (_k,))*AntiSymmetricTensor(v, (_j, _k), (_b, _c))"
      ]
     },
     "metadata": {},
     "output_type": "display_data"
    }
   ],
   "source": [
    "i, j, k = symbols('i, j, k', below_fermi = True)\n",
    "a, b, c = symbols('a, b, c', above_fermi= True)\n",
    "qOperators, qSymbols = [Fd(i)*F(a), {'below': 'jklmno','above': 'bcdefg'}]\n",
    "\n",
    "st = bakerCampbellHausdorff(h,'SD',4)\n",
    "R2 = Rational(1, 4)*AntiSymmetricTensor('r',(b,c),(j,k))*Fd(b)*Fd(c)*F(k)*F(j) \n",
    "sd = evaluate_deltas(wicks(qOperators*Commutator(st,R2) , keep_only_fully_contracted=True))\n",
    "sd = substitute_dummies(sd, new_indices=True, pretty_indices= qSymbols)\n",
    "p = [PermutationOperator(i,j), PermutationOperator(a,b)]\n",
    "\n",
    "display(simplify_index_permutations(sd, p))\n"
   ]
  },
  {
   "cell_type": "markdown",
   "id": "37265fd9",
   "metadata": {},
   "source": [
    "This is taken from working out the EOM equations from original papers\n",
    "#### H<sub>SD</sub>\n",
    "$[F_{ld} \\delta_{ik} \\delta_{ac} + 0.5 W_{alcd} \\delta_{ik} - 0.5 W_{klid} \\delta_{ac}] r^{lkcd}$\n",
    "\n",
    "+ $+F_{ld} = f_{ld} \\delta_{ik}\\delta_{ac} + t^e_m g_{lmde} \\delta_{ik} \\delta_{ac}$\n",
    "\n",
    "    + [16] $+f_{ld} \\delta_{ik} \\delta_{ac} ... ^{16}$ \n",
    "    + [17] $+t^e_m g_{lmde} \\delta_{ik} \\delta_{ac} ...^{21}$\n",
    "    \n",
    "+  $+0.5 W_{alcd} = 0.5 g_{alcd}  \\delta_{ik} - 0.5 t^a_m g_{mlcd} \\delta_{ik}$\n",
    "\n",
    "    + [18] $+0.5 g_{alcd} \\delta_{ik} ...^{17}$\n",
    "    + [19] $-0.5 t^a_m g_{mlcd} \\delta_{ik} ...^{20}$\n",
    "\n",
    "+ $-0.5 W_{klid} = -0.5 (g_{klid} \\delta_{ad} + t^e_i g_{kled} \\delta_{ac})$\n",
    "\n",
    "    + [20] $-0.5 g_{klid} \\delta_{ac} ...^{18}$\n",
    "    + [21] $-0.5 t^e_i g_{kled} \\delta_{ac} ...^{19}$\n",
    "\n",
    "We can see these equations are the same as the Sympy derived ones eg $r_{ij}^{ab} t^c_k v_{bc}^{jk}$ if we write out the einsum string 'ijab,ck,bcjk->ai' , we see c and k are repeated indices so we may write (k->m, c->e) 'ijab,em,bejm->ai', b and j are also repeated so (b->d, j->l), 'ilad,em,delm->ai', using symmetries of 2-electron integrals, 'adil,em,lmde->ai' or 'cdkl,em,lmde,ac,ik->ai' where ik and ac are $\\delta$. This is equation \\[17\\]. \n"
   ]
  },
  {
   "cell_type": "markdown",
   "id": "8f01bc22",
   "metadata": {},
   "source": [
    "+ **EOM-MBPT2**\n",
    "\n",
    "It is easy to get EOM-MBPT2 level results from, for example, EE-EOM. Set $t_1 = 0$, $t_2 = <ab||ij>* (\\epsilon[i,i]+\\epsilon[j,j]-\\epsilon[a,a]-\\epsilon[b,b])^{-1}$ and $f^a_i=0$."
   ]
  },
  {
   "cell_type": "markdown",
   "id": "e7582677",
   "metadata": {},
   "source": [
    "+ **LR-CC2**\n",
    "\n",
    "This is defined the same as EOM-CCSD for singles-singles and singles-doubles blocks. The doubles-singles block is defined as $<\\phi^{ab}_{ij}| e^{t_1}H_N e^{t_1} | \\phi^c_k>$ and the doubles-doubles block as $<\\phi^{ab}_{ij}| e^{t_2}F_N e^{t_2} | \\phi^{cd}_{kl}>$. The only differences here are to use ```bakerCampbellHausdorff(h,'S',4)``` instead of 'SD' for doubles-singles and to use ```bakerCampbellHausdorff(f,'D',4)``` for doubles-doubles."
   ]
  },
  {
   "cell_type": "markdown",
   "id": "42a55e8c",
   "metadata": {},
   "source": [
    "That's all for now."
   ]
  },
  {
   "cell_type": "code",
   "execution_count": null,
   "id": "2f2be58b",
   "metadata": {},
   "outputs": [],
   "source": []
  }
 ],
 "metadata": {
  "celltoolbar": "Raw Cell Format",
  "kernelspec": {
   "display_name": "Python 3",
   "language": "python",
   "name": "python3"
  },
  "language_info": {
   "codemirror_mode": {
    "name": "ipython",
    "version": 3
   },
   "file_extension": ".py",
   "mimetype": "text/x-python",
   "name": "python",
   "nbconvert_exporter": "python",
   "pygments_lexer": "ipython3",
   "version": "3.6.9"
  }
 },
 "nbformat": 4,
 "nbformat_minor": 5
}
